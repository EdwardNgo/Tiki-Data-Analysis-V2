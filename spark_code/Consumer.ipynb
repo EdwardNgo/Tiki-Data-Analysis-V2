{
 "cells": [
  {
   "cell_type": "code",
   "execution_count": 1,
   "id": "49937f9f",
   "metadata": {},
   "outputs": [],
   "source": [
    "from kafka import KafkaConsumer\n"
   ]
  },
  {
   "cell_type": "code",
   "execution_count": 5,
   "id": "d43b3ff5",
   "metadata": {},
   "outputs": [],
   "source": [
    "bootstrap_servers = ['kafka-1:9092', 'kafka-2:9092', 'kafka-3:9092']\n",
    "topicName = 'tiki'\n",
    "\n",
    "consumer = KafkaConsumer(topicName,bootstrap_servers = bootstrap_servers)"
   ]
  },
  {
   "cell_type": "code",
   "execution_count": null,
   "id": "15b6997f",
   "metadata": {},
   "outputs": [],
   "source": [
    "for message in consumer:\n",
    "    print(message)"
   ]
  }
 ],
 "metadata": {
  "kernelspec": {
   "display_name": "Python 3",
   "language": "python",
   "name": "python3"
  },
  "language_info": {
   "codemirror_mode": {
    "name": "ipython",
    "version": 3
   },
   "file_extension": ".py",
   "mimetype": "text/x-python",
   "name": "python",
   "nbconvert_exporter": "python",
   "pygments_lexer": "ipython3",
   "version": "3.7.3"
  }
 },
 "nbformat": 4,
 "nbformat_minor": 5
}
