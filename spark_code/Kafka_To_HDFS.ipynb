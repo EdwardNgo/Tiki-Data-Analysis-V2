{
 "cells": [
  {
   "cell_type": "code",
   "execution_count": 25,
   "id": "11e49e1a",
   "metadata": {},
   "outputs": [],
   "source": [
    "import os \n",
    "kafka = \"org.apache.spark:spark-sql-kafka-0-10_2.12:3.0.1\"\n",
    "spark = \"org.apache.spark:spark-streaming-kafka-0-8_2.11:2.1.0\"\n",
    "\n",
    "os.environ[\"PYSPARK_SUBMIT_ARGS\"] = (\"--packages {},{} pyspark-shell\".format(kafka, spark))\n",
    "\n",
    "from pyspark.context import SparkContext\n",
    "from pyspark.sql.session import SparkSession\n",
    "from functools import reduce\n",
    "from pyspark.sql import DataFrame\n",
    "from pyspark.sql.functions import *\n",
    "from pyspark.sql.types import *"
   ]
  },
  {
   "cell_type": "code",
   "execution_count": 26,
   "id": "5fac1934",
   "metadata": {},
   "outputs": [],
   "source": [
    "KAFKA_BROKER = \"kafka-1:9092,kafka-2:9092,kafka-3:9092\"\n",
    "\n",
    "KAFKA_TOPIC = \"tiki\"\n",
    "\n",
    "spark = SparkSession.builder.appName(\"tiki_analysis\").master(\"spark://spark-master:7077\").getOrCreate()\n"
   ]
  },
  {
   "cell_type": "code",
   "execution_count": 27,
   "id": "be6c0f08",
   "metadata": {},
   "outputs": [],
   "source": [
    "kafkaMessages = spark \\\n",
    "  .readStream \\\n",
    "  .format(\"kafka\") \\\n",
    "  .option(\"kafka.bootstrap.servers\", KAFKA_BROKER) \\\n",
    "  .option(\"subscribe\", KAFKA_TOPIC) \\\n",
    "  .option(\"startingOffsets\", \"earliest\") \\\n",
    "  .load()"
   ]
  },
  {
   "cell_type": "code",
   "execution_count": 28,
   "id": "16690a68",
   "metadata": {},
   "outputs": [],
   "source": [
    "message = kafkaMessages.selectExpr(\"CAST(value AS STRING)\")"
   ]
  },
  {
   "cell_type": "code",
   "execution_count": 37,
   "id": "04db3901",
   "metadata": {},
   "outputs": [],
   "source": [
    "rawQuery = message \\\n",
    "        .writeStream \\\n",
    "        .queryName(\"qraw2\")\\\n",
    "        .format(\"memory\")\\\n",
    "        .start()"
   ]
  },
  {
   "cell_type": "code",
   "execution_count": 35,
   "id": "90406989",
   "metadata": {},
   "outputs": [
    {
     "name": "stdout",
     "output_type": "stream",
     "text": [
      "+--------------------+\n",
      "|               value|\n",
      "+--------------------+\n",
      "|{\"id\": 32033717, ...|\n",
      "|{\"id\": 76181490, ...|\n",
      "|{\"id\": 4897521, \"...|\n",
      "|{\"id\": 54439144, ...|\n",
      "|{\"id\": 73320913, ...|\n",
      "|{\"id\": 38458616, ...|\n",
      "|{\"id\": 53056161, ...|\n",
      "|{\"id\": 99376042, ...|\n",
      "|{\"id\": 53080935, ...|\n",
      "|{\"id\": 70771651, ...|\n",
      "|{\"id\": 81706382, ...|\n",
      "|{\"id\": 67910637, ...|\n",
      "|{\"id\": 416978, \"s...|\n",
      "|{\"id\": 62445418, ...|\n",
      "|{\"id\": 58259141, ...|\n",
      "|{\"id\": 73795655, ...|\n",
      "|{\"id\": 9838905, \"...|\n",
      "|{\"id\": 22356225, ...|\n",
      "|{\"id\": 74975883, ...|\n",
      "|{\"id\": 12567795, ...|\n",
      "+--------------------+\n",
      "only showing top 20 rows\n",
      "\n"
     ]
    }
   ],
   "source": [
    "spark.sql(\"SELECT * FROM qraw2\").show()"
   ]
  },
  {
   "cell_type": "code",
   "execution_count": null,
   "id": "89db642d",
   "metadata": {},
   "outputs": [],
   "source": [
    "fileStream = message.writeStream \\\n",
    "                      .trigger(processingTime='60 seconds')\\\n",
    "                      .queryName(\"Persist the processed data\") \\\n",
    "                      .outputMode(\"append\") \\\n",
    "                      .format(\"json\") \\\n",
    "                      .option(\"path\", \"hdfs://namenode:9000/viethoang/inputHDFS/\") \\\n",
    "                      .option(\"checkpointLocation\", \"hdfs://namenode:9000/viethoang/checkpoint\") \\\n",
    "                      .start() \\\n",
    "                      .awaitTermination()"
   ]
  }
 ],
 "metadata": {
  "kernelspec": {
   "display_name": "Python 3",
   "language": "python",
   "name": "python3"
  },
  "language_info": {
   "codemirror_mode": {
    "name": "ipython",
    "version": 3
   },
   "file_extension": ".py",
   "mimetype": "text/x-python",
   "name": "python",
   "nbconvert_exporter": "python",
   "pygments_lexer": "ipython3",
   "version": "3.7.3"
  }
 },
 "nbformat": 4,
 "nbformat_minor": 5
}
