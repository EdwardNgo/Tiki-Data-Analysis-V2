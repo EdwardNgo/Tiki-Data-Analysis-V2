{
 "cells": [
  {
   "cell_type": "code",
   "execution_count": null,
   "id": "a311474d",
   "metadata": {},
   "outputs": [],
   "source": [
    "# from utils import *\n",
    "import requests\n",
    "import logging\n",
    "import os\n",
    "# from time import time\n",
    "import time\n",
    "from queue import Queue\n",
    "from threading import Thread\n",
    "# from crawler_product import *\n",
    "# from kafka_producer import produce\n",
    "import pandas as pd \n",
    "from kafka import KafkaProducer\n",
    "import json\n",
    "from crawl_tiki_products.utils import *\n",
    "import random\n",
    "import requests\n",
    "from requests.adapters import HTTPAdapter\n",
    "from requests.packages.urllib3.util.retry import Retry"
   ]
  },
  {
   "cell_type": "code",
   "execution_count": null,
   "id": "5c4d5242",
   "metadata": {},
   "outputs": [],
   "source": [
    "bootstrap_servers = ['kafka-1:9092', 'kafka-2:9092', 'kafka-3:9092']\n",
    "topicName = 'tiki'\n",
    "\n",
    "producer = KafkaProducer(bootstrap_servers = bootstrap_servers,\n",
    "                         value_serializer=lambda v: json.dumps(v).encode('utf-8'))\n"
   ]
  },
  {
   "cell_type": "code",
   "execution_count": null,
   "id": "291c8d8f",
   "metadata": {},
   "outputs": [],
   "source": [
    "parentCategory = [\"1789\",\"4221\",\"1815\",\"1846\",\"1801\",\"4384\",\"2549\",\"1520\",\"1975\",\"8594\",\"8322\"]\n",
    "\n",
    "# parentCategory = [\"1815\",\"1801\"]\n",
    "cate_url = \"https://tiki.vn/api/v2/products?limit=48&include=advertisement&aggregations=1&category={cateid}&page={page}\"\n",
    "product_url = \"https://tiki.vn/api/v2/products/{}\"\n",
    "flatten_field = [ \"badges\", \"inventory\", \"categories\", \"rating_summary\", \n",
    "                      \"brand\", \"seller_specifications\", \"current_seller\", \"other_sellers\", \n",
    "                      \"configurable_options\",  \"configurable_products\", \"specifications\", \"product_links\",\n",
    "                      \"services_and_promotions\", \"promotions\", \"stock_item\", \"installment_info\" ]"
   ]
  },
  {
   "cell_type": "code",
   "execution_count": null,
   "id": "0498f877",
   "metadata": {},
   "outputs": [],
   "source": [
    "def retryRequest(url):\n",
    "\n",
    "    headers = random.choice(headers_list)\n",
    "    # print(user_agent)\n",
    "    session = requests.Session()\n",
    "    retry = Retry(connect=4, backoff_factor=0.5)\n",
    "    adapter = HTTPAdapter(max_retries=retry)\n",
    "    session.mount('http://', adapter)\n",
    "    session.mount('https://', adapter)\n",
    "    response = session.get(url, headers=headers)\n",
    "\n",
    "    return response"
   ]
  },
  {
   "cell_type": "code",
   "execution_count": null,
   "id": "09d7a088",
   "metadata": {},
   "outputs": [],
   "source": [
    "topic = \"tiki\"\n",
    "def crawl_product_id(url,cateid):\n",
    "    product_list = []\n",
    "    products = []\n",
    "    i = 1\n",
    "    flag = True\n",
    "    try:\n",
    "        os.makedirs(f\"./data/raw_product/{cateid}\")\n",
    "    except:\n",
    "        print(\"Folder exists\")\n",
    "    while (flag):\n",
    "        print(\"Crawl page: \", i)\n",
    "        print(url.format(cateid = cateid,page = i))\n",
    "        try:\n",
    "            response = retryRequest(url.format(cateid = cateid,page = i))\n",
    "        except Exception as e:\n",
    "            print(e)\n",
    "            break\n",
    "        print(response.status_code)\n",
    "        if (response.status_code != 200):\n",
    "            break\n",
    "\n",
    "        products = json.loads(response.text)[\"data\"]\n",
    "        last_page = json.loads(response.text)[\"paging\"][\"last_page\"]\n",
    "        if (i >= last_page):\n",
    "            flag = False\n",
    "        with open(f\"./data/raw_product/{cateid}/{cateid}-{i}.json\",\"w+\") as f:\n",
    "            json.dump(products,f,indent = 4,ensure_ascii = False)\n",
    "        if len(products) == 0:\n",
    "            break\n",
    "        i += 1\n",
    "        try:\n",
    "            for product in products:\n",
    "                producer.send(topic,product)\n",
    "                producer.flush()        \n",
    "        except Exception as e:\n",
    "            print(e)\n",
    "\n",
    "    return product_list,products, i"
   ]
  },
  {
   "cell_type": "code",
   "execution_count": null,
   "id": "ef83a872",
   "metadata": {},
   "outputs": [],
   "source": [
    "\n",
    "class ProductWorker(Thread):\n",
    "\n",
    "    def __init__(self, queue):\n",
    "        Thread.__init__(self)\n",
    "        self.queue = queue\n",
    "\n",
    "    def run(self):\n",
    "        while True:\n",
    "            # Get the work from the queue and expand the tuple\n",
    "            cate_id = self.queue.get()\n",
    "            try:\n",
    "                crawl_product_id(cate_url,cate_id)\n",
    "            finally:\n",
    "                self.queue.task_done()"
   ]
  },
  {
   "cell_type": "code",
   "execution_count": null,
   "id": "adb1503c",
   "metadata": {},
   "outputs": [],
   "source": [
    "def multiThreadScraper(ThreadObject,argList):\n",
    "    # product_list = load_raw_product(\"./data/product_id/{}.txt\".format(\"1789\"))\n",
    "    # Create a queue to communicate with the worker threads\n",
    "    queue = Queue()\n",
    "    # Create 4 worker threads\n",
    "    for x in range(4):\n",
    "        worker = ThreadObject(queue)\n",
    "        # Setting daemon to True will let the main thread exit even though the workers are blocking\n",
    "        worker.daemon = True\n",
    "        worker.start()\n",
    "    # Put the tasks into the queue as a tuple\n",
    "    for id in argList:\n",
    "        # logger.info('Queueing {}'.format(id))\n",
    "        queue.put((id))\n",
    "        # product_detail_list.append(product)\n",
    "    # Causes the main thread to wait for the queue to finish processing all the tasks\n",
    "    queue.join()\n",
    "\n",
    "    # logging.info('Took %s seconds', time() - ts)"
   ]
  },
  {
   "cell_type": "code",
   "execution_count": null,
   "id": "41f15b33",
   "metadata": {},
   "outputs": [],
   "source": [
    "multiThreadScraper(ProductWorker,parentCategory)\n"
   ]
  },
  {
   "cell_type": "code",
   "execution_count": null,
   "id": "b7aa4632",
   "metadata": {},
   "outputs": [],
   "source": []
  },
  {
   "cell_type": "code",
   "execution_count": null,
   "id": "43f4a330",
   "metadata": {},
   "outputs": [],
   "source": []
  }
 ],
 "metadata": {
  "kernelspec": {
   "display_name": "Python 3",
   "language": "python",
   "name": "python3"
  },
  "language_info": {
   "codemirror_mode": {
    "name": "ipython",
    "version": 3
   },
   "file_extension": ".py",
   "mimetype": "text/x-python",
   "name": "python",
   "nbconvert_exporter": "python",
   "pygments_lexer": "ipython3",
   "version": "3.7.3"
  }
 },
 "nbformat": 4,
 "nbformat_minor": 5
}
